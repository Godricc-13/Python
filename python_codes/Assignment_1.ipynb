{
 "cells": [
  {
   "cell_type": "code",
   "execution_count": 1,
   "id": "49fa4e19-2921-43ca-a97e-31b54ca65b93",
   "metadata": {},
   "outputs": [
    {
     "name": "stdout",
     "output_type": "stream",
     "text": [
      "Hello , Python World\n"
     ]
    }
   ],
   "source": [
    "print(\"Hello , Python World\") #print function is use to print hello python world"
   ]
  },
  {
   "cell_type": "code",
   "execution_count": 2,
   "id": "3676a3f5-d231-44bd-9fb2-dcc3feae820f",
   "metadata": {},
   "outputs": [
    {
     "name": "stdin",
     "output_type": "stream",
     "text": [
      "enter your frist name  AKSHAR\n",
      "enter your last name GOEL\n"
     ]
    },
    {
     "name": "stdout",
     "output_type": "stream",
     "text": [
      "RAHSKA LEOG\n"
     ]
    }
   ],
   "source": [
    "Name=(input(\"enter your frist name \"))\n",
    "lastName=(input(\"enter your last name\"))\n",
    "print(Name[::-1]+\" \"+ lastName[::-1]) # THIS HELPS TO PRINT THE STRING BACKWARDS\n",
    "\n"
   ]
  },
  {
   "cell_type": "code",
   "execution_count": 3,
   "id": "7a1f2f03-2b03-4911-9b2e-8f3c7ad5d856",
   "metadata": {},
   "outputs": [
    {
     "name": "stdout",
     "output_type": "stream",
     "text": [
      "Methods\n",
      "qwert keyboards\n"
     ]
    }
   ],
   "source": [
    "String_1 = \"QWERT Keyboards\"\n",
    "String_2 = \"methods\"\n",
    "print(String_2.capitalize()) # Capitalize frist letter of the String\n",
    "print(String_1.lower()) # converts all the characters to lower case"
   ]
  },
  {
   "cell_type": "code",
   "execution_count": 4,
   "id": "45b1e0eb-2a09-471c-b959-630bbb6e304f",
   "metadata": {},
   "outputs": [
    {
     "name": "stdin",
     "output_type": "stream",
     "text": [
      "Enter a number  1099\n"
     ]
    },
    {
     "name": "stdout",
     "output_type": "stream",
     "text": [
      "1099\n",
      "1099.0\n",
      "(1099+0j)\n"
     ]
    }
   ],
   "source": [
    "Number=int(input(\"Enter a number \"))\n",
    "print(int(Number)) # converts to integer\n",
    "print(float(Number)) # converts to floating point\n",
    "print(complex(Number)) # converts to complex form i.e a + bj"
   ]
  },
  {
   "cell_type": "code",
   "execution_count": 5,
   "id": "0f585053-313d-45f0-857e-e76ab9dab83b",
   "metadata": {},
   "outputs": [
    {
     "name": "stdin",
     "output_type": "stream",
     "text": [
      "Enter length of Rectangle 123\n",
      "Enter width of Rectangle 345\n"
     ]
    },
    {
     "name": "stdout",
     "output_type": "stream",
     "text": [
      "Area of Rectangle is : 42435\n",
      "Area of Rectangle is42435.00\n"
     ]
    }
   ],
   "source": [
    "leng = int(input(\"Enter length of Rectangle\"))\n",
    "wid = int(input(\"Enter width of Rectangle\"))\n",
    "Area = leng * wid\n",
    "print(\"Area of Rectangle is :\" , Area)\n",
    "print(\"Area of Rectangle is{:.2f}\".format(Area)) # using format func the area is converted to float with 2 decimal\n"
   ]
  },
  {
   "cell_type": "code",
   "execution_count": 6,
   "id": "197bfe7f-b603-43de-8bcf-96d5f6366d0c",
   "metadata": {},
   "outputs": [
    {
     "name": "stdin",
     "output_type": "stream",
     "text": [
      "Enter frist number 199\n",
      "Enter second number 211\n",
      "Enter third number 345\n"
     ]
    },
    {
     "name": "stdout",
     "output_type": "stream",
     "text": [
      "Average of three numbers enteres by you is 251\n",
      "The average of three numbers is: [251.66666666666666]\n"
     ]
    }
   ],
   "source": [
    "num_1 = int(input(\"Enter frist number\"))\n",
    "num_2 = int(input(\"Enter second number\"))\n",
    "num_3 = int(input(\"Enter third number\"))\n",
    "Avg = (num_1+num_2+num_3)/3\n",
    "print(\"Average of three numbers enteres by you is %d\" % Avg) # here we have used String formating method where we use\n",
    "                                                             # % to insert the Avg in the String\n",
    "print(\"The average of three numbers is:\" , [float((num_1+num_2+num_3)/3)])\n"
   ]
  },
  {
   "cell_type": "code",
   "execution_count": 7,
   "id": "ab0d0e16-3d7c-4209-bdef-3c75e198a52e",
   "metadata": {},
   "outputs": [
    {
     "name": "stdin",
     "output_type": "stream",
     "text": [
      "Enter a number:  -123\n"
     ]
    },
    {
     "name": "stdout",
     "output_type": "stream",
     "text": [
      "The number is negative.\n"
     ]
    },
    {
     "name": "stdin",
     "output_type": "stream",
     "text": [
      "Enter a number (or type 'exit' to stop):  123\n",
      "Enter a number (or type 'exit' to stop):  EXIT\n"
     ]
    },
    {
     "name": "stdout",
     "output_type": "stream",
     "text": [
      "Exiting the loop.\n"
     ]
    }
   ],
   "source": [
    "num = int(input(\"Enter a number: \"))\n",
    "if num > 0:\n",
    "    print(\"The number is positive.\")  # THIS CODE CHECKS POSITIVE AND NEGATIVE \n",
    "elif num == 0:\n",
    "    print(\"The number is zero.\")\n",
    "else:\n",
    "    print(\"The number is negative.\")\n",
    "while True:\n",
    "    user_input = input(\"Enter a number (or type 'exit' to stop): \")\n",
    "\n",
    "    if user_input.lower() == 'exit':\n",
    "        print(\"Exiting the loop.\")\n",
    "        break  # Exit the loop if the user types \"exit\""
   ]
  },
  {
   "cell_type": "code",
   "execution_count": 8,
   "id": "463473c2-429f-46cc-8eba-f28a0cd73c3f",
   "metadata": {},
   "outputs": [
    {
     "name": "stdin",
     "output_type": "stream",
     "text": [
      "Enter a number (or type 'exit' to stop):  12\n",
      "Enter a number (or type 'exit' to stop):  12\n",
      "Enter a number (or type 'exit' to stop):  12\n",
      "Enter a number (or type 'exit' to stop):  12\n",
      "Enter a number (or type 'exit' to stop):  EXIT\n"
     ]
    },
    {
     "name": "stdout",
     "output_type": "stream",
     "text": [
      "Exiting the loop.\n"
     ]
    }
   ],
   "source": [
    "while True:\n",
    "    user_input = input(\"Enter a number (or type 'exit' to stop): \")\n",
    "\n",
    "    if user_input.lower() == 'exit':\n",
    "        print(\"Exiting the loop.\")\n",
    "        break  # Exit the loop if the user types \"exit\"\n",
    "    else:\n",
    "        continue  # this will ask the user for the input "
   ]
  },
  {
   "cell_type": "code",
   "execution_count": 9,
   "id": "af02e775-b610-4099-ac36-56cd155589e8",
   "metadata": {},
   "outputs": [
    {
     "name": "stdin",
     "output_type": "stream",
     "text": [
      "Enter the first number:  123\n",
      "Enter the second number:  332\n"
     ]
    },
    {
     "name": "stdout",
     "output_type": "stream",
     "text": [
      "One number is odd and the other is even.\n"
     ]
    }
   ],
   "source": [
    "# Input: Ask the user for two numbers\n",
    "num1 = int(input(\"Enter the first number: \"))\n",
    "num2 = int(input(\"Enter the second number: \"))\n",
    "\n",
    "# Logic: Use relational and logical operators to determine the type of numbers\n",
    "if num1 % 2 == 0 and num2 % 2 == 0:\n",
    "    print(f\"Both {num1} and {num2} are even.\")\n",
    "elif num1 % 2 != 0 and num2 % 2 != 0:\n",
    "    print(f\"Both {num1} and {num2} are odd.\")\n",
    "else:\n",
    "    print(f\"One number is odd and the other is even.\")"
   ]
  },
  {
   "cell_type": "code",
   "execution_count": 10,
   "id": "9cee25a8-559a-4b60-9d4f-415ab4d02f5d",
   "metadata": {},
   "outputs": [
    {
     "name": "stdin",
     "output_type": "stream",
     "text": [
      "Enter an integer:  100\n"
     ]
    },
    {
     "name": "stdout",
     "output_type": "stream",
     "text": [
      "Binary: 1100100\n",
      "Hexadecimal: 64\n",
      "Octal: 144\n"
     ]
    }
   ],
   "source": [
    "#  prints its binary, octal, and hexadecimal equivalents using a for loop and bitwise operators.\n",
    "num = int(input(\"Enter an integer: \"))\n",
    "formats = [('Binary', bin), ('Hexadecimal', hex), ('Octal', oct)]\n",
    "# Loop through each format and print the result\n",
    "for name, func in formats:\n",
    "    print(f\"{name}: {func(num)[2:].upper()}\")"
   ]
  },
  {
   "cell_type": "code",
   "execution_count": null,
   "id": "92277e8f-5f1e-4154-bf72-e0fa17721fc7",
   "metadata": {},
   "outputs": [],
   "source": []
  }
 ],
 "metadata": {
  "kernelspec": {
   "display_name": "Python 3 (ipykernel)",
   "language": "python",
   "name": "python3"
  },
  "language_info": {
   "codemirror_mode": {
    "name": "ipython",
    "version": 3
   },
   "file_extension": ".py",
   "mimetype": "text/x-python",
   "name": "python",
   "nbconvert_exporter": "python",
   "pygments_lexer": "ipython3",
   "version": "3.12.5"
  }
 },
 "nbformat": 4,
 "nbformat_minor": 5
}
