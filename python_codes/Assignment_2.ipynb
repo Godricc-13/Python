{
  "cells": [
    {
      "attachments": {},
      "cell_type": "markdown",
      "metadata": {
        "colab_type": "text",
        "id": "view-in-github"
      },
      "source": [
        "<a href=\"https://colab.research.google.com/github/Rajatt-Chawla/Python-Programming/blob/main/Assignment_2.ipynb\" target=\"_parent\"><img src=\"https://colab.research.google.com/assets/colab-badge.svg\" alt=\"Open In Colab\"/></a>"
      ]
    },
    {
      "cell_type": "code",
      "execution_count": 1,
      "metadata": {
        "colab": {
          "base_uri": "https://localhost:8080/"
        },
        "id": "Eo5FPnip2C6q",
        "outputId": "791f641f-a493-48f8-8707-d1f943ead2b8"
      },
      "outputs": [
        {
          "name": "stdout",
          "output_type": "stream",
          "text": [
            "Hello Alice\n",
            "Good Morning Bob\n"
          ]
        }
      ],
      "source": [
        "#Write a function greet that takes two arguments: name (a string) and greeting (a string with a default value of \"Hello\"). The function should return a greeting message.\n",
        "def greet(name, greeting=\"Hello\"): #defining a func name greet\n",
        "    return f\"{greeting} {name}\" #returning value of greet n name \n",
        "\n",
        "print(greet(\"Alice\"))   \n",
        "print(greet(\"Bob\", \"Good Morning\")) #print statement"
      ]
    },
    {
      "cell_type": "code",
      "execution_count": 2,
      "metadata": {
        "colab": {
          "base_uri": "https://localhost:8080/"
        },
        "id": "f5rSvDTL2adp",
        "outputId": "bd164e7d-8f9b-4a8d-9a06-c0704622112f"
      },
      "outputs": [
        {
          "name": "stdout",
          "output_type": "stream",
          "text": [
            "Name: John, Age: 18, City: Chicago\n",
            "Name: Emma, Age: 22, City: Los Angeles\n"
          ]
        }
      ],
      "source": [
        "#Create a function create_profile that takes arguments for name, age, and city as named arguments. The function should return a string like \"Name: Alice, Age: 25, City: New York\". Ensure that the age argument has a default value of 18.\n",
        "def create_profile(name, city, age=18):# defining a func create_profile\n",
        "    return f\"Name: {name}, Age: {age}, City: {city}\" #returing list \n",
        "\n",
        "print(create_profile(name=\"John\", city=\"Chicago\")) # func calling and printing returned value\n",
        "print(create_profile(name=\"Emma\", age=22, city=\"Los Angeles\")) #func calling and printing returned value\n",
        "\n"
      ]
    },
    {
      "cell_type": "code",
      "execution_count": 3,
      "metadata": {
        "colab": {
          "base_uri": "https://localhost:8080/"
        },
        "id": "s3yurC2V2r7p",
        "outputId": "7efa8e01-e233-4c1f-ac1d-dd0c36699da6"
      },
      "outputs": [
        {
          "name": "stdout",
          "output_type": "stream",
          "text": [
            "6\n",
            "(3, {'x': 4, 'y': 5})\n"
          ]
        }
      ],
      "source": [
        "#Write a function sum_numbers that takes any number of positional arguments (args) and keyword arguments (*kwargs). It should:\n",
        "def sum_numbers(*args, **kwargs): #defining func sum_numberts\n",
        "    sum_args = sum(arg for arg in args if isinstance(arg, (int, float))) # usding sum function and using for loop and generallizing \n",
        "    return (sum_args, kwargs) if kwargs else sum_args \n",
        "\n",
        "print(sum_numbers(1, 2, 3))\n",
        "print(sum_numbers(1, 2, x=4, y=5))\n",
        "\n"
      ]
    },
    {
      "cell_type": "code",
      "execution_count": 4,
      "metadata": {
        "colab": {
          "base_uri": "https://localhost:8080/"
        },
        "id": "j_45_TKp3KUz",
        "outputId": "b26371e0-8bd8-44ee-e734-35db74867ce1"
      },
      "outputs": [
        {
          "name": "stdout",
          "output_type": "stream",
          "text": [
            "[1, 4, 9, 16]\n"
          ]
        }
      ],
      "source": [
        "#Write a function that uses map and a lambda to return a list where each element is squared.\n",
        "def square_list(numbers): # defing a func square_list \n",
        "    return list(map(lambda x: x**2, numbers)) # returning list \n",
        "\n",
        "print(square_list([1, 2, 3, 4])) #func calling and printing list which has been returned\n",
        "\n"
      ]
    },
    {
      "cell_type": "code",
      "execution_count": 6,
      "metadata": {
        "colab": {
          "base_uri": "https://localhost:8080/"
        },
        "id": "zepeKuCp3TOI",
        "outputId": "669d2167-989f-4055-9d76-1d9e08e08e73"
      },
      "outputs": [
        {
          "name": "stdout",
          "output_type": "stream",
          "text": [
            "[2, 4]\n"
          ]
        }
      ],
      "source": [
        "#Filter and Lambdas\n",
        "def filter_odd_numbers(numbers): #defining func filter_odd_numbers\n",
        "    return list(filter(lambda x: x % 2 == 0, numbers)) #returning lsit \n",
        "\n",
        "print(filter_odd_numbers([1, 2, 3, 4, 5])) # func calling and printing list\n",
        "\n"
      ]
    },
    {
      "cell_type": "code",
      "execution_count": 7,
      "metadata": {
        "colab": {
          "base_uri": "https://localhost:8080/"
        },
        "id": "MCn57HUT3bTO",
        "outputId": "a3c98a16-ed1a-4f58-f849-a0171679c0de"
      },
      "outputs": [
        {
          "name": "stdout",
          "output_type": "stream",
          "text": [
            "[0, 1, 4, 9, 16]\n"
          ]
        }
      ],
      "source": [
        "#Basic List Comprehension\n",
        "squares = [x**2 for x in range(5)] # using power operator with for loop \n",
        "print(squares)\n",
        "\n"
      ]
    },
    {
      "cell_type": "code",
      "execution_count": 8,
      "metadata": {
        "colab": {
          "base_uri": "https://localhost:8080/"
        },
        "id": "ofKi4-IC3hmF",
        "outputId": "3c88404b-3ee5-4822-9a47-ecdb490396b9"
      },
      "outputs": [
        {
          "name": "stdout",
          "output_type": "stream",
          "text": [
            "[2, 4, 6, 8, 10, 12, 14, 16, 18, 20]\n"
          ]
        }
      ],
      "source": [
        "#List Comprehension with Condition\n",
        "even_numbers = [x for x in range(1, 21) if x % 2 == 0] # usigng foor loop wiith if statment that checks even numbers\n",
        "print(even_numbers)\n"
      ]
    },
    {
      "cell_type": "code",
      "execution_count": 12,
      "metadata": {
        "colab": {
          "base_uri": "https://localhost:8080/"
        },
        "id": "ZyprF9f03pY9",
        "outputId": "f4fbbcf8-3bb3-49da-91a4-433faa6a6a87"
      },
      "outputs": [
        {
          "name": "stdout",
          "output_type": "stream",
          "text": [
            "Created 'test_folder'\n",
            "Pausing for 3 seconds...\n",
            "Deleted 'test_folder'\n"
          ]
        }
      ],
      "source": [
        "#Using os and time Modules:\n",
        "import os\n",
        "import time\n",
        "\n",
        "def file_operations():                          \n",
        "    os.makedirs(\"test_folder\", exist_ok=True)\n",
        "    print(\"Created 'test_folder'\")\n",
        "\n",
        "    print(\"Pausing for 3 seconds...\")\n",
        "    time.sleep(3)\n",
        "\n",
        "    os.rmdir(\"test_folder\")\n",
        "    print(\"Deleted 'test_folder'\")\n",
        "\n",
        "file_operations()\n",
        "\n"
      ]
    },
    {
      "cell_type": "code",
      "execution_count": 13,
      "metadata": {
        "colab": {
          "base_uri": "https://localhost:8080/"
        },
        "id": "rtwY5UON4U_z",
        "outputId": "79c88b93-70bc-4351-befb-18924052093b"
      },
      "outputs": [
        {
          "name": "stdout",
          "output_type": "stream",
          "text": [
            "Paused execution...\n"
          ]
        }
      ],
      "source": [
        "#Importing Specific Functions:\n",
        "from time import sleep as pause\n",
        "\n",
        "pause(2) # importing time library and using pause func \n",
        "print(\"Paused execution...\")"
      ]
    },
    {
      "cell_type": "code",
      "execution_count": 14,
      "metadata": {
        "colab": {
          "base_uri": "https://localhost:8080/"
        },
        "id": "ffwyKMuD4c9g",
        "outputId": "091ef3dd-4d3b-4fb9-9799-9d33c09884d5"
      },
      "outputs": [
        {
          "name": "stdout",
          "output_type": "stream",
          "text": [
            "[1, 2, 3, 4, 5, 6]\n",
            "[1, 2, 3, 4, 5]\n"
          ]
        }
      ],
      "source": [
        "#Recursive Function with *args and **kwargs (Flattening a List):\n",
        "def flatten_list(*args): # defing a func flatten_list \n",
        "    flat_list = []       #creating an empty list\n",
        "    for arg in args:     # foor loop \n",
        "        if isinstance(arg, (list, tuple)): # if condition with isinstance func \n",
        "            flat_list.extend(flatten_list(*arg))\n",
        "        else:\n",
        "            flat_list.append(arg)\n",
        "    return flat_list #retunring list \n",
        "\n",
        "print(flatten_list([1, [2, 3], [[4, 5], 6]])) # func calling with parameters\n",
        "print(flatten_list([[1, 2], [3, [4, [5]]]]))  # func calling with parameters\n"
      ]
    }
  ],
  "metadata": {
    "colab": {
      "authorship_tag": "ABX9TyMe324eTF7/8WkB/dazkJe8",
      "include_colab_link": true,
      "provenance": []
    },
    "kernelspec": {
      "display_name": "Python 3",
      "name": "python3"
    },
    "language_info": {
      "name": "python"
    }
  },
  "nbformat": 4,
  "nbformat_minor": 0
}
